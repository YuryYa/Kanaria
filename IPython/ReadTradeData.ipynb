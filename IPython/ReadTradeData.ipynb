{
 "cells": [
  {
   "cell_type": "markdown",
   "id": "97dd9077",
   "metadata": {},
   "source": [
    "# Read trade info"
   ]
  },
  {
   "cell_type": "code",
   "execution_count": null,
   "id": "f279ad6c",
   "metadata": {},
   "outputs": [],
   "source": [
    "import json\n",
    "import csv\n",
    "\n",
    "# see https://docs.rmrk.app/syncing/#consolidation -> \"RMRK 2 consolidated dump\" for files\n",
    "with open('rmrk20211118.json') as json_file: # rmrk20211017.json # QmQ8sz7ejw1DemKgQ21xBpzeKiCtYdJUuKQEAaZGq1jjhX.json\n",
    "    data = json.load(json_file)"
   ]
  },
  {
   "cell_type": "code",
   "execution_count": null,
   "id": "a26bf0b4",
   "metadata": {},
   "outputs": [],
   "source": [
    "collection_id = 'e0b9bdcc456a36497a-KANBIRD'\n",
    "birds_number = 0\n",
    "birds = list()\n",
    "for nft_key in data['nfts'].keys():\n",
    "    if collection_id in nft_key:\n",
    "        birds.append(data['nfts'][nft_key])\n",
    "        birds_number = birds_number + 1\n",
    "print(birds_number)"
   ]
  },
  {
   "cell_type": "code",
   "execution_count": null,
   "id": "e937bb80",
   "metadata": {},
   "outputs": [],
   "source": [
    "trade_events = list()\n",
    "for bird_index in range(len(birds)):\n",
    "    bird_id = int(birds[bird_index][\"id\"][-8:])\n",
    "    for operation in birds[bird_index][\"changes\"]:\n",
    "        if (operation[\"opType\"] == \"BUY\") and (operation[\"field\"] == \"forsale\"):\n",
    "            block = operation[\"block\"]\n",
    "            price = float(operation[\"old\"]) / 1000000000000 / 0.95 # [KSM] with 5% of protocol fee (5% may change over time; hardcoded for now)\n",
    "            trade_events.append([bird_index, bird_id, price, block])\n",
    "print(\"The number of deals: \", len(trade_events))\n",
    "print(\"The number of unique birds with deals: \", len(set([x[1] for x in trade_events])))"
   ]
  },
  {
   "cell_type": "code",
   "execution_count": null,
   "id": "8af12420",
   "metadata": {},
   "outputs": [],
   "source": [
    "# !pip install substrate-interface"
   ]
  },
  {
   "cell_type": "code",
   "execution_count": null,
   "id": "2ab11ffb",
   "metadata": {},
   "outputs": [],
   "source": [
    "from substrateinterface import SubstrateInterface\n",
    "\n",
    "substrate = SubstrateInterface(\n",
    "    url=\"wss://kusama-rpc.polkadot.io/\",\n",
    "    ss58_format=2,\n",
    "    type_registry_preset='kusama'\n",
    ")"
   ]
  },
  {
   "cell_type": "code",
   "execution_count": null,
   "id": "2d0a7784",
   "metadata": {},
   "outputs": [],
   "source": [
    "# try Kusama RPC\n",
    "block_hash = \"0x350687795aa02bb23fa84154bf6ed3d87b9af444cc30d873526d3e11068378da\"\n",
    "block_height = 9104828\n",
    "\n",
    "# Retrieve extrinsics in block\n",
    "# result = substrate.get_block(block_hash=block_hash)\n",
    "result = substrate.get_block(block_number=block_height)\n",
    "\n",
    "for extrinsic in result['extrinsics']:\n",
    "    for param in extrinsic[\"call\"]['call_args']:\n",
    "        print(type(param))\n",
    "        if not isinstance(param, str) and (param['name'] == 'now'):\n",
    "            print(param['value'])\n",
    "        elif isinstance(param, str) and (param == 'now'):\n",
    "            print(extrinsic[\"call\"]['call_args']['now'])\n",
    "\n",
    "\n",
    "'''for extrinsic in result['extrinsics']:\n",
    "\n",
    "    if 'address' in extrinsic:\n",
    "        signed_by_address = extrinsic['address'].value\n",
    "    else:\n",
    "        signed_by_address = None\n",
    "\n",
    "    print('\\nPallet: {}\\nCall: {}\\nSigned by: {}'.format(\n",
    "        extrinsic[\"call\"][\"call_module\"].name,\n",
    "        extrinsic[\"call\"][\"call_function\"].name,\n",
    "        signed_by_address\n",
    "    ))\n",
    "\n",
    "    # Loop through call params\n",
    "    for param in extrinsic[\"call\"]['call_args']:\n",
    "\n",
    "        if param['type'] == 'Balance':\n",
    "            param['value'] = '{} {}'.format(param['value'] / 10 ** substrate.token_decimals, substrate.token_symbol)\n",
    "\n",
    "        print(\"Param '{}': {}\".format(param['name'], param['value']))'''"
   ]
  },
  {
   "cell_type": "code",
   "execution_count": null,
   "id": "03c17123",
   "metadata": {},
   "outputs": [],
   "source": [
    "substrate = SubstrateInterface(\n",
    "    url=\"wss://kusama-rpc.polkadot.io/\",\n",
    "    ss58_format=2,\n",
    "    type_registry_preset='kusama'\n",
    ")\n",
    "\n",
    "for trade_event_index in range(len(trade_events)):\n",
    "    if (trade_event_index % 100 == 0):\n",
    "        print(trade_event_index)\n",
    "    trade_event = trade_events[trade_event_index]\n",
    "    block_height = int(trade_event[3])\n",
    "    success = 0\n",
    "    while not success:\n",
    "        try:\n",
    "            result = substrate.get_block(block_number=block_height)\n",
    "            success = 1\n",
    "        except:\n",
    "            block_height= block_height - 1\n",
    "            print('Problem: ', trade_event_index)\n",
    "    trade_value = 0\n",
    "    for extrinsic in result['extrinsics']:\n",
    "            for param in extrinsic[\"call\"]['call_args']:\n",
    "                if not isinstance(param, str) and (param['name'] == 'now'):\n",
    "                    trade_value = param['value']\n",
    "                elif isinstance(param, str) and (param == 'now'):\n",
    "                    trade_value = extrinsic[\"call\"]['call_args']['now']\n",
    "    assert (trade_value != 0), [trade_event, result]\n",
    "    trade_event.append(trade_value)\n",
    "    trade_events[trade_event_index] = trade_event\n",
    "print(\"done\")"
   ]
  },
  {
   "cell_type": "code",
   "execution_count": null,
   "id": "c776ccde",
   "metadata": {},
   "outputs": [],
   "source": [
    "column_names = ['bird_index', 'bird_id', 'price', 'block', 'time']\n",
    "with open('trade_events.csv', 'w', newline='') as trade_events_file:\n",
    "    trade_events_writer = csv.writer(trade_events_file, delimiter=',', quotechar='\"', quoting=csv.QUOTE_MINIMAL)\n",
    "    trade_events_writer.writerow(column_names)\n",
    "    for row_index in range(len(trade_events)):\n",
    "        trade_events_writer.writerow(trade_events[row_index])"
   ]
  },
  {
   "cell_type": "code",
   "execution_count": null,
   "id": "13a6df2c",
   "metadata": {},
   "outputs": [],
   "source": [
    "trade_events = list()\n",
    "with open('trade_events.csv') as csv_file:\n",
    "    csv_reader = csv.reader(csv_file, delimiter=',')\n",
    "    line_count = 0\n",
    "    for row in csv_reader:\n",
    "        if line_count == 0:\n",
    "            print(f'Column names are {\", \".join(row)}')\n",
    "            column_names = row\n",
    "            line_count += 1\n",
    "        else:\n",
    "            trade_events.append(row)\n",
    "            line_count += 1\n",
    "    print(f'Processed {line_count} lines.')"
   ]
  },
  {
   "cell_type": "code",
   "execution_count": null,
   "id": "315dd8a4",
   "metadata": {},
   "outputs": [],
   "source": []
  }
 ],
 "metadata": {
  "kernelspec": {
   "display_name": "Python 3 (ipykernel)",
   "language": "python",
   "name": "python3"
  },
  "language_info": {
   "codemirror_mode": {
    "name": "ipython",
    "version": 3
   },
   "file_extension": ".py",
   "mimetype": "text/x-python",
   "name": "python",
   "nbconvert_exporter": "python",
   "pygments_lexer": "ipython3",
   "version": "3.8.11"
  }
 },
 "nbformat": 4,
 "nbformat_minor": 5
}
