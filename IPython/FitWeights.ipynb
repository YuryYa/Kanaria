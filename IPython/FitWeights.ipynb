{
 "cells": [
  {
   "cell_type": "code",
   "execution_count": 30,
   "id": "5e3adf86",
   "metadata": {},
   "outputs": [],
   "source": [
    "# !pip install pytimeparse"
   ]
  },
  {
   "cell_type": "code",
   "execution_count": 31,
   "id": "4be2b2ae",
   "metadata": {},
   "outputs": [],
   "source": [
    "# !pip install mealpy"
   ]
  },
  {
   "cell_type": "code",
   "execution_count": 32,
   "id": "9138b71c",
   "metadata": {},
   "outputs": [],
   "source": [
    "import numpy as np\n",
    "import matplotlib.pyplot as plt\n",
    "import csv\n",
    "import datetime"
   ]
  },
  {
   "cell_type": "markdown",
   "id": "8b877ea6",
   "metadata": {},
   "source": [
    "## Weekly"
   ]
  },
  {
   "cell_type": "code",
   "execution_count": 33,
   "id": "16e52e6c",
   "metadata": {},
   "outputs": [
    {
     "name": "stdout",
     "output_type": "stream",
     "text": [
      "Column names are bird_index_1, bird_index_2, bird_id_1, bird_id_2, time_between_deals, log_price_ratio, price_1, price_2\n",
      "Processed 474297 lines.\n",
      "Column names are bird_index_1, bird_index_2, bird_id_1, bird_id_2, time_between_deals, log_price_ratio, price_1, price_2\n",
      "Processed 41661 lines.\n"
     ]
    }
   ],
   "source": [
    "days = 7\n",
    "int_columns = [0, 1, 2, 3]\n",
    "numeric_columns = [5, 6, 7]\n",
    "time_columns = [4]\n",
    "\n",
    "file_name = 'pairwise_deals_train_' + str(days) + '.csv'\n",
    "pairwise_deals_train = list()\n",
    "with open(file_name) as csv_file:\n",
    "    csv_reader = csv.reader(csv_file, delimiter=',')\n",
    "    line_count = 0\n",
    "    for row in csv_reader:\n",
    "        if line_count == 0:\n",
    "            print(f'Column names are {\", \".join(row)}')\n",
    "            column_names = row\n",
    "            line_count += 1\n",
    "        else:\n",
    "            for int_element in int_columns:\n",
    "                row[int_element] = int(row[int_element])\n",
    "            for numeric_element in numeric_columns:\n",
    "                row[numeric_element] = float(row[numeric_element])\n",
    "            pairwise_deals_train.append(row)\n",
    "            line_count += 1\n",
    "    print(f'Processed {line_count} lines.')\n",
    "\n",
    "\n",
    "file_name = 'pairwise_deals_test_' + str(days) + '.csv'\n",
    "pairwise_deals_test = list()\n",
    "with open(file_name) as csv_file:\n",
    "    csv_reader = csv.reader(csv_file, delimiter=',')\n",
    "    line_count = 0\n",
    "    for row in csv_reader:\n",
    "        if line_count == 0:\n",
    "            print(f'Column names are {\", \".join(row)}')\n",
    "            column_names = row\n",
    "            line_count += 1\n",
    "        else:\n",
    "            for int_element in int_columns:\n",
    "                row[int_element] = int(row[int_element])\n",
    "            for numeric_element in numeric_columns:\n",
    "                row[numeric_element] = float(row[numeric_element])\n",
    "            pairwise_deals_test.append(row)\n",
    "            line_count += 1\n",
    "    print(f'Processed {line_count} lines.')"
   ]
  },
  {
   "cell_type": "code",
   "execution_count": 34,
   "id": "67824b40",
   "metadata": {},
   "outputs": [
    {
     "name": "stdout",
     "output_type": "stream",
     "text": [
      "0.4604861111111111\n",
      "-3 days, 5:21:42\n"
     ]
    }
   ],
   "source": [
    "from pytimeparse.timeparse import timeparse\n",
    "\n",
    "time_delta_seconds = days * 24 * 60 * 60\n",
    "\n",
    "print(abs(timeparse(pairwise_deals_train[100][4])) / time_delta_seconds)\n",
    "print(pairwise_deals_train[100][4])"
   ]
  },
  {
   "cell_type": "code",
   "execution_count": 35,
   "id": "7de0f930",
   "metadata": {},
   "outputs": [
    {
     "name": "stdout",
     "output_type": "stream",
     "text": [
      "Column names are bird_id, theme, head, eyes, body, tail, wingLeft, wingRight, feet, beak, trait_score, trait_rank, set_score, set_rank, edition_score, edition_rank, weighted_score, weighted_rank\n",
      "Processed 8479 lines.\n"
     ]
    }
   ],
   "source": [
    "column_names = ['bird_id', 'theme', 'head', 'eyes', 'body', 'tail', 'wingLeft', 'wingRight', 'feet', 'beak',\n",
    "                'trait_score', 'trait_rank', 'set_score', 'set_rank', 'edition_score', 'edition_rank', \n",
    "                'weighted_score', 'weighted_rank', 'birds_weighted_normalized_scores', 'day_trade_score', 'week_trade_score']\n",
    "\n",
    "birds_dataset_with_ranks = list()\n",
    "int_columns = [0, 11, 13, 15, 17]\n",
    "numeric_columns = [10, 12, 14, 16] # , 18, 19, 20]\n",
    "with open('birds_dataset_with_ranks.csv') as csv_file:\n",
    "    csv_reader = csv.reader(csv_file, delimiter=',')\n",
    "    line_count = 0\n",
    "    for row in csv_reader:\n",
    "        if line_count == 0:\n",
    "            print(f'Column names are {\", \".join(row)}')\n",
    "            column_names = row\n",
    "            line_count += 1\n",
    "        else:\n",
    "            for int_element in int_columns:\n",
    "                row[int_element] = int(row[int_element])\n",
    "            for numeric_element in numeric_columns:\n",
    "                row[numeric_element] = float(row[numeric_element])\n",
    "            birds_dataset_with_ranks.append(row)\n",
    "            line_count += 1\n",
    "    print(f'Processed {line_count} lines.')"
   ]
  },
  {
   "cell_type": "code",
   "execution_count": 36,
   "id": "7a4a2ac3",
   "metadata": {},
   "outputs": [
    {
     "name": "stdout",
     "output_type": "stream",
     "text": [
      "8478 4\n"
     ]
    }
   ],
   "source": [
    "column_indexes = [10, 12, 14, 16]\n",
    "scores = [[x[i] for i in column_indexes] for x in birds_dataset_with_ranks]\n",
    "scores = np.array(scores)\n",
    "print(len(scores), len(scores[0]))"
   ]
  },
  {
   "cell_type": "code",
   "execution_count": 37,
   "id": "c841ea1c",
   "metadata": {},
   "outputs": [],
   "source": [
    "def kernel_epanechnikov(time_deltas, days_width=7):\n",
    "    time_delta_seconds = days_width * 24 * 60 * 60\n",
    "    kernel_values = np.zeros(len(time_deltas))\n",
    "    for index in range(len(time_deltas)):\n",
    "        kernel_values[index] = max(1 - (abs(timeparse(time_deltas[index])) / time_delta_seconds) ** 2, 0)\n",
    "    return kernel_values\n",
    "\n",
    "time_deltas_train = [x[4] for x in pairwise_deals_train]\n",
    "\n",
    "kernal_values_train = kernel_epanechnikov(time_deltas_train)\n",
    "kernal_values_train = np.array(kernal_values_train)\n",
    "\n",
    "time_deltas_test = [x[4] for x in pairwise_deals_test]\n",
    "\n",
    "kernal_values_test = kernel_epanechnikov(time_deltas_test)\n",
    "kernal_values_test = np.array(kernal_values_test)"
   ]
  },
  {
   "cell_type": "code",
   "execution_count": 38,
   "id": "548e442c",
   "metadata": {},
   "outputs": [],
   "source": [
    "relatile_log_price_train = [np.log(x[-2]/x[-1]) for x in pairwise_deals_train]\n",
    "relatile_log_price_train = np.array(relatile_log_price_train)\n",
    "\n",
    "relatile_log_price_test = [np.log(x[-2]/x[-1]) for x in pairwise_deals_test]\n",
    "relatile_log_price_test = np.array(relatile_log_price_test)"
   ]
  },
  {
   "cell_type": "code",
   "execution_count": 39,
   "id": "8c46405d",
   "metadata": {},
   "outputs": [
    {
     "name": "stdout",
     "output_type": "stream",
     "text": [
      "[[  3   4]\n",
      " [  3   6]\n",
      " [  3  34]\n",
      " [  3  46]\n",
      " [  3 165]\n",
      " [  3 177]\n",
      " [  3 177]\n",
      " [  3 177]\n",
      " [  3 181]\n",
      " [  3 197]]\n",
      "<class 'numpy.int32'>\n"
     ]
    }
   ],
   "source": [
    "pair_indexes_train = np.array([x[:2] for x in pairwise_deals_train])\n",
    "pair_indexes_test = np.array([x[:2] for x in pairwise_deals_test])\n",
    "print(pair_indexes_train[:10])\n",
    "print(type(pair_indexes_train[0, 0]))"
   ]
  },
  {
   "cell_type": "code",
   "execution_count": 40,
   "id": "1014586d",
   "metadata": {},
   "outputs": [],
   "source": [
    "def m(x, w):\n",
    "    \"\"\"Weighted Mean\"\"\"\n",
    "    return np.sum(x * w) / np.sum(w)\n",
    "\n",
    "def cov(x, y, w):\n",
    "    \"\"\"Weighted Covariance\"\"\"\n",
    "    return np.sum(w * (x - m(x, w)) * (y - m(y, w))) / np.sum(w)\n",
    "\n",
    "def corr(x, y, w):\n",
    "    \"\"\"Weighted Correlation\"\"\"\n",
    "    return cov(x, y, w) / np.sqrt(cov(x, x, w) * cov(y, y, w))\n",
    "\n",
    "def get_accuracy(scores_combination, \n",
    "                 pair_indexes=pair_indexes_train, \n",
    "                 relatile_log_price=relatile_log_price_train, \n",
    "                 kernal_values=kernal_values_train):\n",
    "    return corr(np.log((1 + scores_combination[pair_indexes[:, 0]]) / \n",
    "                              (1 + scores_combination[pair_indexes[:, 1]])), relatile_log_price, kernal_values)\n",
    "\n",
    "def objective(coefficients, scores=scores[:, :3]):\n",
    "    coefficients = np.append(coefficients, (1 - coefficients[0] - coefficients[1]))\n",
    "    return -get_accuracy(np.matmul(scores, coefficients))\n",
    "\n",
    "def get_accuracy_test(scores_combination):\n",
    "    return get_accuracy(scores_combination, pair_indexes_test, relatile_log_price_test, kernal_values_test)\n",
    "\n",
    "def objective_test(coefficients, scores=scores[:, :3]):\n",
    "    coefficients = np.append(coefficients, (1 - coefficients[0] - coefficients[1]))\n",
    "    return -get_accuracy_test(np.matmul(scores, coefficients))"
   ]
  },
  {
   "cell_type": "code",
   "execution_count": 41,
   "id": "79e6e885",
   "metadata": {},
   "outputs": [
    {
     "name": "stdout",
     "output_type": "stream",
     "text": [
      "(474296, 2)\n",
      "(474296,)\n"
     ]
    }
   ],
   "source": [
    "print(np.shape(pair_indexes_train))\n",
    "print(np.shape(relatile_log_price_train))"
   ]
  },
  {
   "cell_type": "code",
   "execution_count": 42,
   "id": "8371cca9",
   "metadata": {},
   "outputs": [
    {
     "name": "stdout",
     "output_type": "stream",
     "text": [
      "0.5645546159211253 0.37954716374697756 0.7366183863651179 0.7636413840354973\n",
      "0.5775619945190855 0.39163046255649697 0.8574641366925181 0.8462000355628161\n"
     ]
    }
   ],
   "source": [
    "print(get_accuracy(scores[:, 0]), get_accuracy(scores[:, 1]), get_accuracy(scores[:, 2]), get_accuracy(scores[:, 3]))\n",
    "\n",
    "print(get_accuracy_test(scores[:, 0]),\n",
    "      get_accuracy_test(scores[:, 1]),\n",
    "      get_accuracy_test(scores[:, 2]),\n",
    "      get_accuracy_test(scores[:, 3]))"
   ]
  },
  {
   "cell_type": "code",
   "execution_count": 43,
   "id": "04ac5b02",
   "metadata": {},
   "outputs": [
    {
     "name": "stdout",
     "output_type": "stream",
     "text": [
      "0.7636413840354973\n",
      "-0.7636413840354973\n",
      "0.8462000355628161\n"
     ]
    }
   ],
   "source": [
    "birds_trait_scores = np.array([x[-8] for x in birds_dataset_with_ranks])\n",
    "birds_set_scores = np.array([x[-6] for x in birds_dataset_with_ranks])\n",
    "birds_edition_scores = np.array([x[-4] for x in birds_dataset_with_ranks])\n",
    "\n",
    "birds_weighted_normalized_scores = (birds_trait_scores + birds_set_scores + birds_edition_scores) / 3\n",
    "\n",
    "print(get_accuracy(birds_weighted_normalized_scores))\n",
    "print(objective([1/3, 1/3]))\n",
    "print(get_accuracy_test(birds_weighted_normalized_scores))"
   ]
  },
  {
   "cell_type": "code",
   "execution_count": 44,
   "id": "d89d5386",
   "metadata": {},
   "outputs": [],
   "source": [
    "from scipy.optimize import minimize, LinearConstraint"
   ]
  },
  {
   "cell_type": "code",
   "execution_count": 45,
   "id": "0d57391d",
   "metadata": {},
   "outputs": [
    {
     "name": "stdout",
     "output_type": "stream",
     "text": [
      "Optimization terminated successfully    (Exit mode 0)\n",
      "            Current function value: -0.8239566862393403\n",
      "            Iterations: 7\n",
      "            Function evaluations: 23\n",
      "            Gradient evaluations: 7\n",
      "     fun: -0.8239566862393403\n",
      "     jac: array([0.00074369, 0.06660111])\n",
      " message: 'Optimization terminated successfully'\n",
      "    nfev: 23\n",
      "     nit: 7\n",
      "    njev: 7\n",
      "  status: 0\n",
      " success: True\n",
      "       x: array([7.52528212e-01, 1.63523752e-17])\n",
      "0.8801369485963232\n",
      "-0.8801369485963232\n"
     ]
    }
   ],
   "source": [
    "linear_constraint = LinearConstraint([[1, 0], [0, 1], [1, 1]], [0, 0, 0], [1, 1, 1])\n",
    "\n",
    "x0 = [1/3, 1/3]\n",
    "res = minimize(objective, x0, constraints=linear_constraint, options={'disp': True}) # method='nelder-mead',\n",
    "print(res)\n",
    "coefficents = res.x\n",
    "coefficents = np.append(coefficents, 1 - np.sum(res.x))\n",
    "print(get_accuracy_test(np.matmul(scores[:, :3], coefficents)))\n",
    "print(objective_test(res.x))"
   ]
  },
  {
   "cell_type": "code",
   "execution_count": 46,
   "id": "be491e21",
   "metadata": {},
   "outputs": [
    {
     "name": "stdout",
     "output_type": "stream",
     "text": [
      "[1, 'cyberbird', 'cyberbird', 'cyberbird', 'cyberbird', 'cyberbird', 'cyberbird', 'cyberbird', 'cyberbird', 'var2', 3.898092031672943, 4, 1.9994714877881563, 1, 14.350200592323434, 1, 6.749254703928178, 1]\n"
     ]
    }
   ],
   "source": [
    "print(birds_dataset_with_ranks[0])"
   ]
  },
  {
   "cell_type": "code",
   "execution_count": 47,
   "id": "4e12634d",
   "metadata": {},
   "outputs": [
    {
     "name": "stdout",
     "output_type": "stream",
     "text": [
      "iteration:  0\n",
      "Optimization terminated successfully    (Exit mode 0)\n",
      "            Current function value: -0.8239568231782186\n",
      "            Iterations: 14\n",
      "            Function evaluations: 46\n",
      "            Gradient evaluations: 14\n",
      "iteration:  1\n",
      "Optimization terminated successfully    (Exit mode 0)\n",
      "            Current function value: -0.8239568251398421\n",
      "            Iterations: 14\n",
      "            Function evaluations: 48\n",
      "            Gradient evaluations: 14\n",
      "iteration:  2\n",
      "Optimization terminated successfully    (Exit mode 0)\n",
      "            Current function value: -0.823956372324089\n",
      "            Iterations: 7\n",
      "            Function evaluations: 24\n",
      "            Gradient evaluations: 7\n",
      "iteration:  3\n",
      "Optimization terminated successfully    (Exit mode 0)\n",
      "            Current function value: -0.8239568244706403\n",
      "            Iterations: 13\n",
      "            Function evaluations: 42\n",
      "            Gradient evaluations: 13\n",
      "iteration:  4\n",
      "Optimization terminated successfully    (Exit mode 0)\n",
      "            Current function value: -0.8239568278650474\n",
      "            Iterations: 6\n",
      "            Function evaluations: 20\n",
      "            Gradient evaluations: 6\n",
      "iteration:  5\n",
      "Optimization terminated successfully    (Exit mode 0)\n",
      "            Current function value: -0.8239568009268877\n",
      "            Iterations: 10\n",
      "            Function evaluations: 32\n",
      "            Gradient evaluations: 10\n",
      "iteration:  6\n",
      "Optimization terminated successfully    (Exit mode 0)\n",
      "            Current function value: -0.82395651371729\n",
      "            Iterations: 7\n",
      "            Function evaluations: 22\n",
      "            Gradient evaluations: 7\n",
      "iteration:  7\n",
      "Optimization terminated successfully    (Exit mode 0)\n",
      "            Current function value: -0.8239567588478176\n",
      "            Iterations: 14\n",
      "            Function evaluations: 46\n",
      "            Gradient evaluations: 14\n",
      "iteration:  8\n",
      "Optimization terminated successfully    (Exit mode 0)\n",
      "            Current function value: -0.8239563825439511\n",
      "            Iterations: 13\n",
      "            Function evaluations: 45\n",
      "            Gradient evaluations: 13\n",
      "iteration:  9\n",
      "Optimization terminated successfully    (Exit mode 0)\n",
      "            Current function value: -0.8239567739668943\n",
      "            Iterations: 7\n",
      "            Function evaluations: 23\n",
      "            Gradient evaluations: 7\n"
     ]
    }
   ],
   "source": [
    "set_size = 10\n",
    "x0_points = list()\n",
    "x_points = list()\n",
    "y_points = list()\n",
    "for iteration in range(set_size):\n",
    "    print('iteration: ', iteration)\n",
    "    boundaries = sorted([np.random.rand(), np.random.rand()])\n",
    "    x0 = [boundaries[0], boundaries[1] - boundaries[0]]\n",
    "    x0_points.append(x0)\n",
    "    res = minimize(objective, x0, constraints=linear_constraint, options={'disp': True})\n",
    "    x_current = res.x\n",
    "    y_current = res.fun\n",
    "    x_points.append(x_current)\n",
    "    y_points.append(y_current)"
   ]
  },
  {
   "cell_type": "code",
   "execution_count": 48,
   "id": "63d3abd4",
   "metadata": {},
   "outputs": [
    {
     "name": "stdout",
     "output_type": "stream",
     "text": [
      "[7.52174585e-01 9.61753357e-18] 0.8239568278650474\n"
     ]
    }
   ],
   "source": [
    "minimum_index = np.argmin(y_points)\n",
    "print(x_points[minimum_index], -y_points[minimum_index])\n",
    "optimal_weekly_x = x_points[minimum_index]"
   ]
  },
  {
   "cell_type": "code",
   "execution_count": 49,
   "id": "0b579eaa",
   "metadata": {},
   "outputs": [
    {
     "data": {
      "text/plain": [
       "0.24782541536003355"
      ]
     },
     "execution_count": 49,
     "metadata": {},
     "output_type": "execute_result"
    }
   ],
   "source": [
    "1 - optimal_weekly_x[0] - optimal_weekly_x[1]"
   ]
  },
  {
   "cell_type": "code",
   "execution_count": 50,
   "id": "ce248e44",
   "metadata": {},
   "outputs": [
    {
     "data": {
      "text/plain": [
       "'from mealpy.bio_based import SMA\\nimport numpy as np\\n\\n\\ndef obj_function(solution):\\n    \\n    def violate(value):\\n        return 0 if value >= 0 else value\\n    \\n    def margine(solution):\\n        return 1 - solution[0] - solution[1]\\n\\n    fx = objective(solution)\\n\\n## Increase the punishment for g1 and g4 to boost the algorithm (You can choice any constraint instead of g1 and g4)\\n    fx = fx - violate(margine(solution))\\n  \\n    return fx\\n\\nproblem_dict1 = {\\n    \"obj_func\": obj_function,\\n    \"lb\": [0, 0],\\n    \"ub\": [1, 1],\\n    \"minmax\": \"min\",\\n    \"verbose\": False,\\n}\\n\\n## Run the algorithm\\nmodel1 = SMA.BaseSMA(problem_dict1, epoch=100, pop_size=50, pr=0.03)\\nmodel1.solve()'"
      ]
     },
     "execution_count": 50,
     "metadata": {},
     "output_type": "execute_result"
    }
   ],
   "source": [
    "'''from mealpy.bio_based import SMA\n",
    "import numpy as np\n",
    "\n",
    "\n",
    "def obj_function(solution):\n",
    "    \n",
    "    def violate(value):\n",
    "        return 0 if value >= 0 else value\n",
    "    \n",
    "    def margine(solution):\n",
    "        return 1 - solution[0] - solution[1]\n",
    "\n",
    "    fx = objective(solution)\n",
    "\n",
    "## Increase the punishment for g1 and g4 to boost the algorithm (You can choice any constraint instead of g1 and g4)\n",
    "    fx = fx - violate(margine(solution))\n",
    "  \n",
    "    return fx\n",
    "\n",
    "problem_dict1 = {\n",
    "    \"obj_func\": obj_function,\n",
    "    \"lb\": [0, 0],\n",
    "    \"ub\": [1, 1],\n",
    "    \"minmax\": \"min\",\n",
    "    \"verbose\": False,\n",
    "}\n",
    "\n",
    "## Run the algorithm\n",
    "model1 = SMA.BaseSMA(problem_dict1, epoch=100, pop_size=50, pr=0.03)\n",
    "model1.solve()'''"
   ]
  },
  {
   "cell_type": "code",
   "execution_count": 51,
   "id": "0f5c8351",
   "metadata": {},
   "outputs": [
    {
     "data": {
      "text/plain": [
       "'print(model1.solution[0])\\nprint(objective(model1.solution[0]))\\nprint(objective_test(model1.solution[0]))'"
      ]
     },
     "execution_count": 51,
     "metadata": {},
     "output_type": "execute_result"
    }
   ],
   "source": [
    "'''print(model1.solution[0])\n",
    "print(objective(model1.solution[0]))\n",
    "print(objective_test(model1.solution[0]))'''"
   ]
  },
  {
   "cell_type": "markdown",
   "id": "4c145ae5",
   "metadata": {},
   "source": [
    "## Save"
   ]
  },
  {
   "cell_type": "code",
   "execution_count": 52,
   "id": "db539703",
   "metadata": {},
   "outputs": [],
   "source": [
    "def score_from_coefficients(coefficients):\n",
    "    return birds_trait_scores * coefficients[0] + birds_set_scores * coefficients[1] + birds_edition_scores * (1 - coefficients[0] - coefficients[1])"
   ]
  },
  {
   "cell_type": "code",
   "execution_count": 53,
   "id": "6034e792",
   "metadata": {},
   "outputs": [],
   "source": [
    "birds_trait_scores = np.array([x[-8] for x in birds_dataset_with_ranks])\n",
    "birds_set_scores = np.array([x[-6] for x in birds_dataset_with_ranks])\n",
    "birds_edition_scores = np.array([x[-4] for x in birds_dataset_with_ranks])"
   ]
  },
  {
   "cell_type": "code",
   "execution_count": 55,
   "id": "81535fb0",
   "metadata": {},
   "outputs": [
    {
     "name": "stdout",
     "output_type": "stream",
     "text": [
      "[0.752172156, 2.55288896e-17, 0.247827844]\n"
     ]
    }
   ],
   "source": [
    "optimal_weekly_x = [7.52172156e-01, 2.55288896e-17]\n",
    "print([optimal_weekly_x[0], optimal_weekly_x[1], 1 - optimal_weekly_x[0] - optimal_weekly_x[1]])\n",
    "# [0.76, 0, 0.24]"
   ]
  },
  {
   "cell_type": "code",
   "execution_count": 56,
   "id": "34576671",
   "metadata": {},
   "outputs": [],
   "source": [
    "birds_weighted_normalized_scores = (birds_trait_scores / np.mean(birds_trait_scores)) + (\n",
    "                                    birds_set_scores / np.mean(birds_set_scores)) + (\n",
    "                                    birds_edition_scores / np.mean(birds_edition_scores))\n",
    "\n",
    "week_trade_score = score_from_coefficients(optimal_weekly_x) \n"
   ]
  },
  {
   "cell_type": "code",
   "execution_count": 57,
   "id": "0c3a3b28",
   "metadata": {},
   "outputs": [],
   "source": [
    "nfts_number = len(birds_dataset_with_ranks)\n",
    "birds_dataset_with_ranks = np.hstack((birds_dataset_with_ranks, \n",
    "                                      np.reshape(birds_weighted_normalized_scores, (nfts_number, 1)),\n",
    "                                      np.reshape(week_trade_score, (nfts_number, 1))\n",
    "                                     ))"
   ]
  },
  {
   "cell_type": "code",
   "execution_count": 58,
   "id": "345d5f56",
   "metadata": {},
   "outputs": [
    {
     "name": "stdout",
     "output_type": "stream",
     "text": [
      "Column names are bird_id, theme, head, eyes, body, tail, wingLeft, wingRight, feet, beak, trait_score, trait_rank, set_score, set_rank, edition_score, edition_rank, weighted_score, weighted_rank, birds_weighted_normalized_scores, week_trade_score\n",
      "Processed 8479 lines.\n"
     ]
    }
   ],
   "source": [
    "column_names = ['bird_id', 'theme', 'head', 'eyes', 'body', 'tail', 'wingLeft', 'wingRight', 'feet', 'beak',\n",
    "                'trait_score', 'trait_rank', 'set_score', 'set_rank', 'edition_score', 'edition_rank', \n",
    "                'weighted_score', 'weighted_rank', \n",
    "                'birds_weighted_normalized_scores', 'week_trade_score']\n",
    "\n",
    "with open('birds_dataset_with_ranks_fitted.csv', 'w', newline='') as birds_file:\n",
    "    bird_writer = csv.writer(birds_file, delimiter=',', quotechar='\"', quoting=csv.QUOTE_MINIMAL)\n",
    "    bird_writer.writerow(column_names)\n",
    "    for row_index in range(len(birds_dataset_with_ranks)):\n",
    "        bird_writer.writerow(birds_dataset_with_ranks[row_index])\n",
    "\n",
    "birds_dataset_with_ranks = list()\n",
    "int_columns = [0, -1-2, -3-2, -5-2, -7-2]\n",
    "numeric_columns = [-2-2, -4-2, -6-2, -8-2, -2, -1]\n",
    "with open('birds_dataset_with_ranks_fitted.csv') as csv_file:\n",
    "    csv_reader = csv.reader(csv_file, delimiter=',')\n",
    "    line_count = 0\n",
    "    for row in csv_reader:\n",
    "        if line_count == 0:\n",
    "            print(f'Column names are {\", \".join(row)}')\n",
    "            column_names = row\n",
    "            line_count += 1\n",
    "        else:\n",
    "            for int_element in int_columns:\n",
    "                row[int_element] = int(row[int_element])\n",
    "            for numeric_element in numeric_columns:\n",
    "                row[numeric_element] = float(row[numeric_element])\n",
    "            birds_dataset_with_ranks.append(row)\n",
    "            line_count += 1\n",
    "    print(f'Processed {line_count} lines.')"
   ]
  },
  {
   "cell_type": "markdown",
   "id": "358923a6",
   "metadata": {},
   "source": [
    "## Visualize ranks"
   ]
  },
  {
   "cell_type": "code",
   "execution_count": null,
   "id": "c2e6e880",
   "metadata": {},
   "outputs": [],
   "source": [
    "import numpy as np\n",
    "import matplotlib.pyplot as plt\n",
    "\n",
    "nfts_number = len(birds_dataset_with_ranks)\n",
    "\n",
    "rank_indexes = [-4, -2, -1]\n",
    "table_names = ['1/3', 'normalize and 1/3', 'fit on weekly data']\n",
    "for current_rank_index in range(len(rank_indexes)):\n",
    "\n",
    "    bird_indexes = np.array([x[0] for x in birds_dataset_with_ranks])\n",
    "    bird_scores = np.array([x[rank_indexes[current_rank_index]] for x in birds_dataset_with_ranks])\n",
    "    bird_ranks = sorted(range(len(bird_scores)), key=lambda k: -bird_scores[k])\n",
    "    bird_ranks = [x + 1 for x in bird_ranks]\n",
    "    \n",
    "    borders = [0, 10, 100, 1000, 10000]\n",
    "\n",
    "    birds_scores = np.zeros((nfts_number,))\n",
    "    edition_trait = np.zeros((nfts_number,))\n",
    "    for current_border in borders:\n",
    "        edition_trait = edition_trait + (bird_indexes < current_border)\n",
    "    edition_trait = [int(x) for x in edition_trait]\n",
    "    edition_collections_number = len(np.unique(edition_trait))\n",
    "    data = np.zeros((edition_collections_number, edition_collections_number))\n",
    "    for row in range(edition_collections_number):\n",
    "        for column in range(edition_collections_number):\n",
    "            for bird_index in range(len(bird_indexes)):\n",
    "                if ((bird_indexes[bird_index] >= borders[row]) and \n",
    "                    (bird_indexes[bird_index] < borders[row + 1]) and\n",
    "                    (bird_ranks[bird_index] >= borders[column]) and\n",
    "                    (bird_ranks[bird_index] < borders[column + 1])\n",
    "                   ):\n",
    "                    data[row, column] = data[row, column] + 1\n",
    "    columns = ('Among 1-9', '10-99', '100-999', '1000-9999')\n",
    "    rows = ['Super Founder', 'Founder', 'Rare', 'Limited Edition']\n",
    "\n",
    "    # Get some pastel shades for the colors\n",
    "    colors = ['orange', 'blueviolet', 'blue', 'limegreen']# plt.cm.BuPu(np.linspace(0, 0.5, len(rows)))\n",
    "    n_rows = len(data)\n",
    "\n",
    "    import numpy as np\n",
    "    import pandas as pd\n",
    "    import matplotlib.pyplot as plt\n",
    "    \n",
    "\n",
    "    fig, ax = plt.subplots()\n",
    "\n",
    "    # hide axes\n",
    "    fig.patch.set_visible(False)\n",
    "    ax.axis('off')\n",
    "    ax.axis('tight')\n",
    "\n",
    "    df = pd.DataFrame(data.transpose(), columns=columns, index=rows).astype(int)\n",
    "    \n",
    "    \n",
    "\n",
    "    ax.table(cellText=df.values, rowLabels=rows, rowColours=colors, colLabels=df.columns, colColours=colors, loc='center')\n",
    "    ax.set_title(table_names[current_rank_index])\n",
    "    fig.tight_layout()\n",
    "\n",
    "    plt.show()"
   ]
  },
  {
   "cell_type": "code",
   "execution_count": null,
   "id": "a169281c",
   "metadata": {},
   "outputs": [],
   "source": []
  }
 ],
 "metadata": {
  "kernelspec": {
   "display_name": "Python 3 (ipykernel)",
   "language": "python",
   "name": "python3"
  },
  "language_info": {
   "codemirror_mode": {
    "name": "ipython",
    "version": 3
   },
   "file_extension": ".py",
   "mimetype": "text/x-python",
   "name": "python",
   "nbconvert_exporter": "python",
   "pygments_lexer": "ipython3",
   "version": "3.8.11"
  }
 },
 "nbformat": 4,
 "nbformat_minor": 5
}
