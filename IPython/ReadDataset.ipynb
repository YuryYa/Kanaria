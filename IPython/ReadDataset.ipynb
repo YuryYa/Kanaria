{
 "cells": [
  {
   "cell_type": "markdown",
   "id": "21e26e89",
   "metadata": {},
   "source": [
    "# Read dataset \n",
    "from RMRK 2 consolidated dump"
   ]
  },
  {
   "cell_type": "code",
   "execution_count": null,
   "id": "24ff1c6e",
   "metadata": {},
   "outputs": [],
   "source": [
    "import json\n",
    "\n",
    "# see https://docs.rmrk.app/syncing/#consolidation -> \"RMRK 2 consolidated dump\" for files\n",
    "with open('rmrk20211118.json') as json_file:\n",
    "    data = json.load(json_file)"
   ]
  },
  {
   "cell_type": "code",
   "execution_count": null,
   "id": "a5355896",
   "metadata": {},
   "outputs": [],
   "source": [
    "for key in data.keys():\n",
    "    if type(data[key]) == int:\n",
    "        print(key, '=', data[key])\n",
    "    else:\n",
    "        print(key, ': ', len(data[key]), 'items')"
   ]
  },
  {
   "cell_type": "code",
   "execution_count": null,
   "id": "793b9a1b",
   "metadata": {},
   "outputs": [],
   "source": [
    "for collection in data['collections']:\n",
    "    print(collection)"
   ]
  },
  {
   "cell_type": "code",
   "execution_count": null,
   "id": "42115b4e",
   "metadata": {},
   "outputs": [],
   "source": [
    "collection_id = 'e0b9bdcc456a36497a-KANBIRD'\n",
    "birds_number = 0\n",
    "birds = list()\n",
    "for nft_key in data['nfts'].keys():\n",
    "    if collection_id in nft_key:\n",
    "        birds.append(data['nfts'][nft_key])\n",
    "        birds_number = birds_number + 1\n",
    "print(birds_number)\n",
    "print(\"The description states: 8478 limited edition single-mint NFTs\")"
   ]
  },
  {
   "cell_type": "markdown",
   "id": "c9369ef2",
   "metadata": {},
   "source": [
    "## Examples"
   ]
  },
  {
   "cell_type": "code",
   "execution_count": null,
   "id": "6232f1e9",
   "metadata": {},
   "outputs": [],
   "source": [
    "bird_index = 2878\n",
    "print(int(birds[bird_index][\"id\"][-8:]))\n",
    "print(json.dumps(birds[bird_index][\"resources\"][0][\"parts\"], indent=4, sort_keys=True))\n",
    "print(json.dumps(birds[bird_index][\"resources\"][0][\"themeId\"], indent=4, sort_keys=True))"
   ]
  },
  {
   "cell_type": "code",
   "execution_count": null,
   "id": "e66ba8de",
   "metadata": {},
   "outputs": [],
   "source": [
    "bird_index = 11\n",
    "print(json.dumps(birds[bird_index], indent=4, sort_keys=True))"
   ]
  },
  {
   "cell_type": "code",
   "execution_count": null,
   "id": "fc91bb56",
   "metadata": {},
   "outputs": [],
   "source": [
    "birds_for_sale = list()\n",
    "for bird_index in range(len(birds)):\n",
    "    if len(birds[bird_index]['changes']) > 1:\n",
    "        birds_for_sale.append(bird_index)"
   ]
  },
  {
   "cell_type": "code",
   "execution_count": null,
   "id": "f0ab162e",
   "metadata": {},
   "outputs": [],
   "source": [
    "for bird_index in birds_for_sale:\n",
    "    print(bird_index)\n",
    "    print(json.dumps(birds[bird_index]['changes'], indent=4, sort_keys=True))"
   ]
  },
  {
   "cell_type": "code",
   "execution_count": null,
   "id": "cba388b2",
   "metadata": {},
   "outputs": [],
   "source": [
    "bird_index = 1001\n",
    "print(json.dumps(birds[bird_index], indent=4, sort_keys=True))"
   ]
  },
  {
   "cell_type": "code",
   "execution_count": null,
   "id": "96170f16",
   "metadata": {},
   "outputs": [],
   "source": [
    "print(json.dumps(birds[bird_index][\"metadata\"], indent=4, sort_keys=True))"
   ]
  },
  {
   "cell_type": "markdown",
   "id": "59112598",
   "metadata": {},
   "source": [
    "* \"1f970_beak\", +/2 (face)\n",
    "* \"var2_body\", +\n",
    "* \"1f970_eyes\", +/2 (face)\n",
    "* \"var2_footLeft\", +/2 (feet)\n",
    "* \"var2_footRight\", +/2 (feet)\n",
    "* \"var2_handLeft\", - (items?)\n",
    "* \"var2_handRight\", - (items?)\n",
    "* \"2600_head\", +\n",
    "* \"2600_tail\", +\n",
    "* \"var2_wingLeft\", +\n",
    "* \"var2_wingRight\", +\n",
    "\n",
    "and\n",
    "\n",
    "* \"themeId\""
   ]
  },
  {
   "cell_type": "markdown",
   "id": "87012370",
   "metadata": {},
   "source": [
    "## Construct table"
   ]
  },
  {
   "cell_type": "code",
   "execution_count": null,
   "id": "1a3e9ee6",
   "metadata": {},
   "outputs": [],
   "source": [
    "tails = list()\n",
    "tops = list()\n",
    "bodies = list()\n",
    "\n",
    "def get_row(bird):\n",
    "    bird_id = int(bird[\"id\"][-8:])\n",
    "    theme = bird[\"resources\"][0][\"themeId\"]\n",
    "    parts_list = bird[\"resources\"][0][\"parts\"]\n",
    "    parts_list = [x.lower() for x in parts_list]\n",
    "    for key_string in parts_list:\n",
    "        if key_string.find('_head') != -1:\n",
    "            head = key_string[:-5]\n",
    "        if key_string.find('_eyes') != -1:\n",
    "            eyes = key_string[:-5]\n",
    "        if key_string.find('_body') != -1:\n",
    "            body = key_string[:-5]\n",
    "            bodies.append(body)\n",
    "        has_tail = False\n",
    "        if key_string.find('_tail') != -1:\n",
    "            tail = key_string[:-5]\n",
    "            has_tail = True\n",
    "            tails.append(tail)\n",
    "        has_top = False\n",
    "        if key_string.find('_top_rare') != -1:\n",
    "            tail = key_string[:-9]\n",
    "            has_top = True\n",
    "            tops.append(tail)\n",
    "        if has_tail and has_top:\n",
    "            print(bird_id)\n",
    "        if key_string.find('_wingleft') != -1:\n",
    "            wingLeft = key_string[:-9]\n",
    "        if key_string.find('_handleft') != -1:\n",
    "            handLeft = key_string[:-9]\n",
    "        if key_string.find('_wingright') != -1:\n",
    "            wingRight = key_string[:-10]\n",
    "        if key_string.find('_handright') != -1:\n",
    "            handRight = key_string[:-10]\n",
    "        if key_string.find('_footleft') != -1:\n",
    "            footLeft = key_string[:-9]\n",
    "        if key_string.find('_footright') != -1:\n",
    "            footRight = key_string[:-10]\n",
    "        if key_string.find('_beak') != -1:\n",
    "            beak = key_string[:-5]\n",
    "    # print(bird_id, parts_list)\n",
    "    assert footLeft == footRight, bird_id\n",
    "    assert wingLeft == handLeft, bird_id\n",
    "    assert wingRight == handRight, bird_id\n",
    "    feet = footLeft\n",
    "    return [bird_id, theme, head, eyes, body, tail, wingLeft, wingRight, feet, beak]"
   ]
  },
  {
   "cell_type": "code",
   "execution_count": null,
   "id": "1b21479a",
   "metadata": {},
   "outputs": [],
   "source": [
    "import csv\n",
    "\n",
    "column_names = ['bird_id', 'theme', 'head', 'eyes', 'body', 'tail', 'wingLeft', 'wingRight', 'feet', 'beak']\n",
    "birds_dataset = list()\n",
    "for bird in birds:\n",
    "    birds_dataset.append(get_row(bird))\n",
    "    \n",
    "with open('birds_dataset.csv', 'w', newline='') as birds_file:\n",
    "    bird_writer = csv.writer(birds_file, delimiter=',', quotechar='\"', quoting=csv.QUOTE_MINIMAL)\n",
    "    bird_writer.writerow(column_names)\n",
    "    for row_index in range(len(birds_dataset)):\n",
    "        bird_writer.writerow(birds_dataset[row_index])\n",
    "\n",
    "birds_dataset = list()\n",
    "with open('birds_dataset.csv') as csv_file:\n",
    "    csv_reader = csv.reader(csv_file, delimiter=',')\n",
    "    line_count = 0\n",
    "    for row in csv_reader:\n",
    "        if line_count == 0:\n",
    "            print(f'Column names are {\", \".join(row)}')\n",
    "            column_names = row\n",
    "            line_count += 1\n",
    "        else:\n",
    "            birds_dataset.append(row)\n",
    "            line_count += 1\n",
    "    print(f'Processed {line_count} lines.')"
   ]
  },
  {
   "cell_type": "markdown",
   "id": "91e9850b",
   "metadata": {},
   "source": [
    "## Interesting stats"
   ]
  },
  {
   "cell_type": "code",
   "execution_count": null,
   "id": "208d2afb",
   "metadata": {},
   "outputs": [],
   "source": [
    "print(len(tails), len(bodies), len(tops))\n",
    "print(\"There are tails and tops with the following same names:\", list(set(tails) & set(tops)))\n",
    "print(\"There are bodies and tops with the following same names:\", list(set(tails) & set(tops)))\n",
    "print(set(tops))\n",
    "\n",
    "with open('tails.txt','w') as file:\n",
    "    file.write(str(set(tops)))\n",
    "    \n",
    "import ast\n",
    "with open('tails.txt','r') as file:\n",
    "    tops_set = ast.literal_eval(file.read())\n",
    "print(tops_set)"
   ]
  },
  {
   "cell_type": "markdown",
   "id": "c4449441",
   "metadata": {},
   "source": [
    "# Dataset with alias instead of strings"
   ]
  },
  {
   "cell_type": "code",
   "execution_count": null,
   "id": "e6e39f96",
   "metadata": {},
   "outputs": [],
   "source": [
    "from itertools import count\n",
    "from collections import defaultdict\n",
    "\n",
    "rows_number = len(birds_dataset)\n",
    "columns_number = len(birds_dataset[0])\n",
    "birds_traits_list = list()\n",
    "for row_index in range(rows_number):\n",
    "    for column_index in range(1, columns_number):\n",
    "        birds_traits_list.append(birds_dataset[row_index][column_index])\n",
    "\n",
    "mapping = defaultdict(count().__next__)\n",
    "result = list()\n",
    "for element in birds_traits_list:\n",
    "    result.append(mapping[element])\n",
    "\n",
    "birds_dataset_alias = list()\n",
    "for row_index in range(rows_number):\n",
    "    current_row = [birds_dataset[row_index][0]]\n",
    "    current_row.extend(result[row_index * (columns_number - 1): (row_index + 1) * (columns_number - 1)])\n",
    "    birds_dataset_alias.append(current_row)\n",
    "    \n",
    "with open('birds_dataset_alias.csv', 'w', newline='') as birds_file:\n",
    "    bird_writer = csv.writer(birds_file, delimiter=',', quotechar='\"', quoting=csv.QUOTE_MINIMAL)\n",
    "    bird_writer.writerow(column_names)\n",
    "    for row_index in range(len(birds_dataset_alias)):\n",
    "        bird_writer.writerow(birds_dataset_alias[row_index])"
   ]
  },
  {
   "cell_type": "code",
   "execution_count": null,
   "id": "dbc0b603",
   "metadata": {},
   "outputs": [],
   "source": [
    "birds_dataset_alias = list()\n",
    "with open('birds_dataset_alias.csv') as csv_file:\n",
    "    csv_reader = csv.reader(csv_file, delimiter=',')\n",
    "    line_count = 0\n",
    "    for row in csv_reader:\n",
    "        if line_count == 0:\n",
    "            print(f'Column names are {\", \".join(row)}')\n",
    "            column_names = row\n",
    "            line_count += 1\n",
    "        else:\n",
    "            birds_dataset_alias.append(row)\n",
    "            line_count += 1\n",
    "    print(f'Processed {line_count} lines.')"
   ]
  },
  {
   "cell_type": "markdown",
   "id": "4bb6508d",
   "metadata": {},
   "source": [
    "## Pie plots for traits"
   ]
  },
  {
   "cell_type": "code",
   "execution_count": null,
   "id": "daf29f06",
   "metadata": {},
   "outputs": [],
   "source": [
    "import numpy as np\n",
    "from collections import Counter\n",
    "import matplotlib.pyplot as plt\n",
    "\n",
    "birds_dataset = np.array(birds_dataset)\n",
    "for column_index in range(1, columns_number):\n",
    "    entries = Counter(birds_dataset[:, column_index])\n",
    "    print(column_names[column_index])\n",
    "    plt.pie(entries.values(), labels = entries.keys())\n",
    "    plt.show()"
   ]
  },
  {
   "cell_type": "code",
   "execution_count": null,
   "id": "767bfe69",
   "metadata": {},
   "outputs": [],
   "source": []
  }
 ],
 "metadata": {
  "kernelspec": {
   "display_name": "Python 3 (ipykernel)",
   "language": "python",
   "name": "python3"
  },
  "language_info": {
   "codemirror_mode": {
    "name": "ipython",
    "version": 3
   },
   "file_extension": ".py",
   "mimetype": "text/x-python",
   "name": "python",
   "nbconvert_exporter": "python",
   "pygments_lexer": "ipython3",
   "version": "3.8.11"
  }
 },
 "nbformat": 4,
 "nbformat_minor": 5
}
