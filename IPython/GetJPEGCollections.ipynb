{
 "cells": [
  {
   "cell_type": "code",
   "execution_count": null,
   "id": "69a7072d",
   "metadata": {},
   "outputs": [],
   "source": [
    "import json\n",
    "import requests\n",
    "\n",
    "with open('rmrk20211118.json') as json_file:\n",
    "    data = json.load(json_file)\n",
    "        \n",
    "collection_id = 'e0b9bdcc456a36497a-KANBIRD'\n",
    "birds_number = 0\n",
    "birds = list()\n",
    "for nft_key in data['nfts'].keys():\n",
    "    if collection_id in nft_key:\n",
    "        birds.append(data['nfts'][nft_key])\n",
    "        birds_number = birds_number + 1\n",
    "print(birds_number)"
   ]
  },
  {
   "cell_type": "code",
   "execution_count": null,
   "id": "1ba08fc5",
   "metadata": {},
   "outputs": [],
   "source": [
    "from pathlib import Path\n",
    "Path(\"jpgs\").mkdir(parents=True, exist_ok=True)"
   ]
  },
  {
   "cell_type": "code",
   "execution_count": null,
   "id": "e3372952",
   "metadata": {},
   "outputs": [],
   "source": [
    "from tqdm import tqdm\n",
    "\n",
    "for bird_index in tqdm(range(len(birds))):\n",
    "    url_string = \"https://kanaria-img.rmrk.link/1635945800349/jpeg/\" + birds[bird_index]['id'] + \".jpg\"\n",
    "    r = requests.get(url_string, allow_redirects=True)\n",
    "\n",
    "    open('jpgs/' + birds[bird_index]['id'][-4:] + \".jpg\", 'wb').write(r.content)"
   ]
  },
  {
   "cell_type": "code",
   "execution_count": null,
   "id": "b75af913",
   "metadata": {},
   "outputs": [],
   "source": [
    "import os\n",
    "\n",
    "for bird_index in range(len(birds)):\n",
    "    if not os.path.isfile('jpgs/' + birds[bird_index]['id'][-4:] + \".jpg\"):\n",
    "        print(\"The bird \", birds[bird_index]['id'], \" is missing!\")\n",
    "        url_string = \"https://kanaria-img.rmrk.link/1633635008653/jpeg/\" + birds[bird_index]['id'] + \".jpg\"\n",
    "        r = requests.get(url_string, allow_redirects=True)\n",
    "        open('jpgs/' + birds[bird_index]['id'][-4:] + \".jpg\", 'wb').write(r.content)"
   ]
  },
  {
   "cell_type": "code",
   "execution_count": null,
   "id": "aa68a142",
   "metadata": {},
   "outputs": [],
   "source": []
  }
 ],
 "metadata": {
  "kernelspec": {
   "display_name": "Python 3 (ipykernel)",
   "language": "python",
   "name": "python3"
  },
  "language_info": {
   "codemirror_mode": {
    "name": "ipython",
    "version": 3
   },
   "file_extension": ".py",
   "mimetype": "text/x-python",
   "name": "python",
   "nbconvert_exporter": "python",
   "pygments_lexer": "ipython3",
   "version": "3.8.11"
  }
 },
 "nbformat": 4,
 "nbformat_minor": 5
}
