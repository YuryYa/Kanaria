{
 "cells": [
  {
   "cell_type": "code",
   "execution_count": null,
   "metadata": {},
   "outputs": [],
   "source": [
    "from PIL import Image\n",
    "import PIL\n",
    "import os\n",
    "import glob"
   ]
  },
  {
   "cell_type": "code",
   "execution_count": null,
   "metadata": {},
   "outputs": [],
   "source": [
    "import json\n",
    "\n",
    "with open('rmrk20211118.json') as json_file:\n",
    "    data = json.load(json_file)\n",
    "        \n",
    "collection_id = 'e0b9bdcc456a36497a-KANBIRD'\n",
    "birds_number = 0\n",
    "birds = list()\n",
    "for nft_key in data['nfts'].keys():\n",
    "    if collection_id in nft_key:\n",
    "        birds.append(data['nfts'][nft_key])\n",
    "        birds_number = birds_number + 1\n",
    "print(birds_number)\n",
    "collection_size = 9 + 90 + 747 + 7815\n",
    "print(collection_size)\n",
    "print(\"But the description states: 8478 limited edition single-mint NFTs\")"
   ]
  },
  {
   "cell_type": "code",
   "execution_count": null,
   "metadata": {},
   "outputs": [],
   "source": [
    "from pathlib import Path\n",
    "Path(\"jpgs-compressed\").mkdir(parents=True, exist_ok=True)"
   ]
  },
  {
   "cell_type": "code",
   "execution_count": null,
   "metadata": {},
   "outputs": [],
   "source": [
    "from tqdm import tqdm\n",
    "\n",
    "fail_list = list()\n",
    "for bird_index in tqdm(range(len(birds))):\n",
    "    try:\n",
    "        file_name = 'jpgs-compressed/' + birds[bird_index]['id'][-4:] + \".jpg\"\n",
    "        picture = Image.open('jpgs/' + birds[bird_index]['id'][-4:] + \".jpg\")\n",
    "        picture.save(file_name, optimize=True, quality=10)\n",
    "    except:\n",
    "        fail_list.append(bird_index)"
   ]
  },
  {
   "cell_type": "code",
   "execution_count": null,
   "metadata": {},
   "outputs": [],
   "source": [
    "print(fail_list)"
   ]
  },
  {
   "cell_type": "code",
   "execution_count": null,
   "metadata": {},
   "outputs": [],
   "source": []
  }
 ],
 "metadata": {
  "kernelspec": {
   "display_name": "Python 3 (ipykernel)",
   "language": "python",
   "name": "python3"
  },
  "language_info": {
   "codemirror_mode": {
    "name": "ipython",
    "version": 3
   },
   "file_extension": ".py",
   "mimetype": "text/x-python",
   "name": "python",
   "nbconvert_exporter": "python",
   "pygments_lexer": "ipython3",
   "version": "3.8.11"
  }
 },
 "nbformat": 4,
 "nbformat_minor": 2
}
